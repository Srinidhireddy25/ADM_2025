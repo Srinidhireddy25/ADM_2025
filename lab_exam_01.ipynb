{
  "nbformat": 4,
  "nbformat_minor": 0,
  "metadata": {
    "colab": {
      "provenance": [],
      "authorship_tag": "ABX9TyOS1ckRA8kJKncEeCycftqu",
      "include_colab_link": true
    },
    "kernelspec": {
      "name": "python3",
      "display_name": "Python 3"
    },
    "language_info": {
      "name": "python"
    }
  },
  "cells": [
    {
      "cell_type": "markdown",
      "metadata": {
        "id": "view-in-github",
        "colab_type": "text"
      },
      "source": [
        "<a href=\"https://colab.research.google.com/github/Srinidhireddy25/ADM_2025/blob/main/lab_exam_01.ipynb\" target=\"_parent\"><img src=\"https://colab.research.google.com/assets/colab-badge.svg\" alt=\"Open In Colab\"/></a>"
      ]
    },
    {
      "cell_type": "code",
      "execution_count": 1,
      "metadata": {
        "id": "SWFmbbLkK0n-"
      },
      "outputs": [],
      "source": [
        "import pandas as pd\n",
        "import numpy as np\n",
        "from scipy import stats"
      ]
    },
    {
      "cell_type": "code",
      "source": [
        "data={'Age':[10,12,15,18,200,25,30,35,40,1000]}\n",
        "df=pd.DataFrame(data)"
      ],
      "metadata": {
        "id": "r4oLWklqLDAL"
      },
      "execution_count": 2,
      "outputs": []
    },
    {
      "cell_type": "code",
      "source": [
        "Q1=df['Age'].quantile(0.25)\n",
        "Q3=df['Age'].quantile(0.75)\n",
        "IQR=Q3-Q1\n",
        "lower_bound=Q1-1.5*IQR\n",
        "upper_bound=Q3+1.5*IQR"
      ],
      "metadata": {
        "id": "1U2lMfVzLW0A"
      },
      "execution_count": 3,
      "outputs": []
    },
    {
      "cell_type": "code",
      "source": [
        "outliers_iqr=df[(df['Age']<lower_bound)|(df['Age']>upper_bound)]\n",
        "print(outliers_iqr)"
      ],
      "metadata": {
        "colab": {
          "base_uri": "https://localhost:8080/"
        },
        "id": "IDoNhGd-L-VW",
        "outputId": "93625bff-c574-446d-d70d-25e7e2ed602a"
      },
      "execution_count": 4,
      "outputs": [
        {
          "output_type": "stream",
          "name": "stdout",
          "text": [
            "    Age\n",
            "4   200\n",
            "9  1000\n"
          ]
        }
      ]
    },
    {
      "cell_type": "code",
      "source": [
        "z_scores=np.abs(stats.zscore(df['Age']))\n",
        "outliers_z=df[z_scores>3]\n",
        "print(outliers_z)"
      ],
      "metadata": {
        "colab": {
          "base_uri": "https://localhost:8080/"
        },
        "id": "cjRRgSltMUDf",
        "outputId": "a76e0e97-aa47-4d82-fbf1-f3d4c85c198e"
      },
      "execution_count": 5,
      "outputs": [
        {
          "output_type": "stream",
          "name": "stdout",
          "text": [
            "Empty DataFrame\n",
            "Columns: [Age]\n",
            "Index: []\n"
          ]
        }
      ]
    },
    {
      "cell_type": "code",
      "source": [
        "df['Age']=np.where((df['Age']<lower_bound)|(df['Age']>upper_bound),df['Age'].median(),df['Age'])\n",
        "print(df)"
      ],
      "metadata": {
        "colab": {
          "base_uri": "https://localhost:8080/"
        },
        "id": "oFPOjdIGMos4",
        "outputId": "ec4b0988-aa22-43ad-a5b4-ba94f6c4830a"
      },
      "execution_count": 6,
      "outputs": [
        {
          "output_type": "stream",
          "name": "stdout",
          "text": [
            "    Age\n",
            "0  10.0\n",
            "1  12.0\n",
            "2  15.0\n",
            "3  18.0\n",
            "4  27.5\n",
            "5  25.0\n",
            "6  30.0\n",
            "7  35.0\n",
            "8  40.0\n",
            "9  27.5\n"
          ]
        }
      ]
    }
  ]
}